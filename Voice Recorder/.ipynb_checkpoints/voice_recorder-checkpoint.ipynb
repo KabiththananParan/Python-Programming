{
 "cells": [
  {
   "cell_type": "code",
   "execution_count": 6,
   "id": "4f80c24b-af7c-4e36-882c-74ead428064c",
   "metadata": {},
   "outputs": [],
   "source": [
    "import os\n",
    "\n",
    "# # Set environment variable before importing sounddevice. Value is not important.\n",
    "# os.environ[\"SD_ENABLE_ASIO\"] = \"1\"\n",
    "\n",
    "# import sounddevice as sd"
   ]
  },
  {
   "cell_type": "code",
   "execution_count": 4,
   "id": "b9b8a776-94b3-4cd4-a311-751e44820835",
   "metadata": {},
   "outputs": [],
   "source": [
    "!which python"
   ]
  },
  {
   "cell_type": "code",
   "execution_count": 5,
   "id": "b11cbe5e-e93a-4a99-b73b-a23e33db686b",
   "metadata": {},
   "outputs": [
    {
     "name": "stdout",
     "output_type": "stream",
     "text": [
      "Defaulting to user installation because normal site-packages is not writeable\n",
      "Collecting sounddevice\n",
      "  Using cached sounddevice-0.5.1-py3-none-any.whl (32 kB)\n",
      "Requirement already satisfied: CFFI>=1.0 in /home/paran/.local/lib/python3.10/site-packages (from sounddevice) (1.17.1)\n",
      "Requirement already satisfied: pycparser in /home/paran/.local/lib/python3.10/site-packages (from CFFI>=1.0->sounddevice) (2.22)\n",
      "Installing collected packages: sounddevice\n",
      "Successfully installed sounddevice-0.5.1\n"
     ]
    }
   ],
   "source": [
    "!pip install sounddevice"
   ]
  },
  {
   "cell_type": "code",
   "execution_count": 5,
   "id": "4540aa5b-ef62-4275-9a7b-6d282b657283",
   "metadata": {},
   "outputs": [],
   "source": [
    "import sounddevice as sd"
   ]
  },
  {
   "cell_type": "code",
   "execution_count": 6,
   "id": "fe82d81f-aaa8-4e71-9ce6-37b90138b5d1",
   "metadata": {},
   "outputs": [
    {
     "name": "stdout",
     "output_type": "stream",
     "text": [
      "   0 sof-hda-dsp: - (hw:0,0), ALSA (2 in, 2 out)\n",
      "   1 sof-hda-dsp: - (hw:0,3), ALSA (0 in, 2 out)\n",
      "   2 sof-hda-dsp: - (hw:0,4), ALSA (0 in, 2 out)\n",
      "   3 sof-hda-dsp: - (hw:0,5), ALSA (0 in, 2 out)\n",
      "   4 sof-hda-dsp: - (hw:0,6), ALSA (2 in, 0 out)\n",
      "   5 sof-hda-dsp: - (hw:0,7), ALSA (2 in, 0 out)\n",
      "   6 sysdefault, ALSA (128 in, 128 out)\n",
      "   7 samplerate, ALSA (128 in, 128 out)\n",
      "   8 speexrate, ALSA (128 in, 128 out)\n",
      "   9 pulse, ALSA (32 in, 32 out)\n",
      "  10 upmix, ALSA (8 in, 8 out)\n",
      "  11 vdownmix, ALSA (6 in, 6 out)\n",
      "  12 dmix, ALSA (0 in, 2 out)\n",
      "* 13 default, ALSA (32 in, 32 out)\n"
     ]
    }
   ],
   "source": [
    "print(sd.query_devices())"
   ]
  },
  {
   "cell_type": "code",
   "execution_count": 7,
   "id": "656005ad-027d-453f-87d5-eaab3b5347a4",
   "metadata": {},
   "outputs": [],
   "source": [
    "from scipy.io.wavfile import write"
   ]
  },
  {
   "cell_type": "code",
   "execution_count": 8,
   "id": "a6d3f1bf-f4e1-465d-ac48-bbdfe89776f2",
   "metadata": {},
   "outputs": [],
   "source": [
    "#Sample rate\n",
    "fs = 44100"
   ]
  },
  {
   "cell_type": "code",
   "execution_count": 9,
   "id": "6847d669-03ff-4fb9-8820-31bc5cab30bc",
   "metadata": {},
   "outputs": [
    {
     "name": "stdin",
     "output_type": "stream",
     "text": [
      "Enter the Recording Time in second:  10\n"
     ]
    },
    {
     "name": "stdout",
     "output_type": "stream",
     "text": [
      "Recording....\n",
      "Recoarding is done. Please check your folder to listen recording\n"
     ]
    }
   ],
   "source": [
    "seconds = int(input(\"Enter the Recording Time in second: \"))\n",
    "\n",
    "print(\"Recording....\")\n",
    "\n",
    "record_voice = sd.rec(int(seconds * fs), samplerate=fs, channels=2)\n",
    "sd.wait()\n",
    "\n",
    "write(\"MyRecording.wav\", fs, record_voice)\n",
    "\n",
    "print(\"Recoarding is done. Please check your folder to listen recording\")"
   ]
  },
  {
   "cell_type": "code",
   "execution_count": null,
   "id": "8646cd05-751c-4c7b-babd-fc1de4a51d7f",
   "metadata": {},
   "outputs": [],
   "source": []
  }
 ],
 "metadata": {
  "kernelspec": {
   "display_name": "Python 3 (ipykernel)",
   "language": "python",
   "name": "python3"
  },
  "language_info": {
   "codemirror_mode": {
    "name": "ipython",
    "version": 3
   },
   "file_extension": ".py",
   "mimetype": "text/x-python",
   "name": "python",
   "nbconvert_exporter": "python",
   "pygments_lexer": "ipython3",
   "version": "3.10.12"
  }
 },
 "nbformat": 4,
 "nbformat_minor": 5
}
